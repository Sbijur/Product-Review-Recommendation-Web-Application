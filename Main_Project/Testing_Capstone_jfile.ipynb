{
  "cells": [
    {
      "cell_type": "markdown",
      "metadata": {
        "id": "view-in-github",
        "colab_type": "text"
      },
      "source": [
        "<a href=\"https://colab.research.google.com/github/Sbijur/Product-Review-Recommendation-Web-Application/blob/main/Testing_Capstone_jfile.ipynb\" target=\"_parent\"><img src=\"https://colab.research.google.com/assets/colab-badge.svg\" alt=\"Open In Colab\"/></a>"
      ]
    },
    {
      "cell_type": "code",
      "execution_count": null,
      "metadata": {
        "colab": {
          "base_uri": "https://localhost:8080/"
        },
        "id": "fyeQKJNX0ZYj",
        "outputId": "3b447868-8d90-4c6f-c14e-a11128eb3e82"
      },
      "outputs": [
        {
          "output_type": "stream",
          "name": "stdout",
          "text": [
            "Drive already mounted at /content/drive; to attempt to forcibly remount, call drive.mount(\"/content/drive\", force_remount=True).\n"
          ]
        }
      ],
      "source": [
        "from google.colab import drive\n",
        "drive.mount('/content/drive')"
      ]
    },
    {
      "cell_type": "code",
      "execution_count": null,
      "metadata": {
        "id": "0YVq0oVMVmWh"
      },
      "outputs": [],
      "source": [
        "import os\n",
        "os.chdir('/content/drive/My Drive/Colab Notebooks/Capstone_Project')"
      ]
    },
    {
      "cell_type": "code",
      "execution_count": null,
      "metadata": {
        "colab": {
          "base_uri": "https://localhost:8080/"
        },
        "id": "3fT8detY2zzp",
        "outputId": "b33ea011-eab6-41dd-9ed7-236b436c31b7"
      },
      "outputs": [
        {
          "output_type": "stream",
          "name": "stdout",
          "text": [
            "Requirement already satisfied: selenium in /usr/local/lib/python3.10/dist-packages (4.20.0)\n",
            "Requirement already satisfied: urllib3[socks]<3,>=1.26 in /usr/local/lib/python3.10/dist-packages (from selenium) (2.0.7)\n",
            "Requirement already satisfied: trio~=0.17 in /usr/local/lib/python3.10/dist-packages (from selenium) (0.25.0)\n",
            "Requirement already satisfied: trio-websocket~=0.9 in /usr/local/lib/python3.10/dist-packages (from selenium) (0.11.1)\n",
            "Requirement already satisfied: certifi>=2021.10.8 in /usr/local/lib/python3.10/dist-packages (from selenium) (2024.2.2)\n",
            "Requirement already satisfied: typing_extensions>=4.9.0 in /usr/local/lib/python3.10/dist-packages (from selenium) (4.11.0)\n",
            "Requirement already satisfied: attrs>=23.2.0 in /usr/local/lib/python3.10/dist-packages (from trio~=0.17->selenium) (23.2.0)\n",
            "Requirement already satisfied: sortedcontainers in /usr/local/lib/python3.10/dist-packages (from trio~=0.17->selenium) (2.4.0)\n",
            "Requirement already satisfied: idna in /usr/local/lib/python3.10/dist-packages (from trio~=0.17->selenium) (3.7)\n",
            "Requirement already satisfied: outcome in /usr/local/lib/python3.10/dist-packages (from trio~=0.17->selenium) (1.3.0.post0)\n",
            "Requirement already satisfied: sniffio>=1.3.0 in /usr/local/lib/python3.10/dist-packages (from trio~=0.17->selenium) (1.3.1)\n",
            "Requirement already satisfied: exceptiongroup in /usr/local/lib/python3.10/dist-packages (from trio~=0.17->selenium) (1.2.1)\n",
            "Requirement already satisfied: wsproto>=0.14 in /usr/local/lib/python3.10/dist-packages (from trio-websocket~=0.9->selenium) (1.2.0)\n",
            "Requirement already satisfied: pysocks!=1.5.7,<2.0,>=1.5.6 in /usr/local/lib/python3.10/dist-packages (from urllib3[socks]<3,>=1.26->selenium) (1.7.1)\n",
            "Requirement already satisfied: h11<1,>=0.9.0 in /usr/local/lib/python3.10/dist-packages (from wsproto>=0.14->trio-websocket~=0.9->selenium) (0.14.0)\n"
          ]
        }
      ],
      "source": [
        "!pip install selenium"
      ]
    },
    {
      "cell_type": "code",
      "execution_count": null,
      "metadata": {
        "colab": {
          "base_uri": "https://localhost:8080/"
        },
        "id": "xbZuQnzq7kj6",
        "outputId": "30e70e02-d796-46aa-d638-0f94cb5c85c3"
      },
      "outputs": [
        {
          "output_type": "stream",
          "name": "stdout",
          "text": [
            "Requirement already satisfied: pyngrok in /usr/local/lib/python3.10/dist-packages (7.1.6)\n",
            "Requirement already satisfied: PyYAML>=5.1 in /usr/local/lib/python3.10/dist-packages (from pyngrok) (6.0.1)\n"
          ]
        }
      ],
      "source": [
        "!pip install pyngrok"
      ]
    },
    {
      "cell_type": "code",
      "execution_count": null,
      "metadata": {
        "id": "DTKp5NkPCwZU"
      },
      "outputs": [],
      "source": [
        "from flask import Flask, render_template, request, jsonify, redirect, url_for"
      ]
    },
    {
      "cell_type": "code",
      "execution_count": null,
      "metadata": {
        "id": "ttY3DZK2P-Cg"
      },
      "outputs": [],
      "source": [
        "from pyngrok import ngrok"
      ]
    },
    {
      "cell_type": "code",
      "execution_count": null,
      "metadata": {
        "id": "qCxFEFFf7VXB"
      },
      "outputs": [],
      "source": [
        "port_no=5000"
      ]
    },
    {
      "cell_type": "code",
      "execution_count": null,
      "metadata": {
        "colab": {
          "base_uri": "https://localhost:8080/"
        },
        "id": "f1ddc23d",
        "outputId": "17a1bbd0-1d18-4218-a9b7-9be94607c59f"
      },
      "outputs": [
        {
          "output_type": "stream",
          "name": "stderr",
          "text": [
            "[nltk_data] Downloading package stopwords to /root/nltk_data...\n",
            "[nltk_data]   Package stopwords is already up-to-date!\n"
          ]
        },
        {
          "output_type": "execute_result",
          "data": {
            "text/plain": [
              "True"
            ]
          },
          "metadata": {},
          "execution_count": 48
        }
      ],
      "source": [
        "import numpy as np\n",
        "import pandas as pd\n",
        "import seaborn as sns\n",
        "import matplotlib.pyplot as plt\n",
        "%matplotlib inline\n",
        "import warnings, string\n",
        "warnings.filterwarnings('ignore')\n",
        "from sklearn.model_selection import train_test_split, GridSearchCV\n",
        "from sklearn.metrics import classification_report, confusion_matrix, accuracy_score\n",
        "import nltk\n",
        "from nltk.corpus import stopwords\n",
        "from sklearn.feature_extraction.text import CountVectorizer, TfidfTransformer\n",
        "from sklearn.pipeline import Pipeline\n",
        "from sklearn.svm import SVC\n",
        "from sklearn.linear_model import LogisticRegression\n",
        "from sklearn.ensemble import VotingClassifier\n",
        "nltk.download('stopwords')"
      ]
    },
    {
      "cell_type": "markdown",
      "metadata": {
        "id": "LYdVTS1lc2qt"
      },
      "source": [
        "### SVM-LR Fake Review Detection System"
      ]
    },
    {
      "cell_type": "markdown",
      "metadata": {
        "id": "0boyZ2UoAGi6"
      },
      "source": [
        "Loading and Reading the Dataset"
      ]
    },
    {
      "cell_type": "code",
      "execution_count": null,
      "metadata": {
        "id": "46e09e82"
      },
      "outputs": [],
      "source": [
        "df=pd.read_csv(\"/content/drive/MyDrive/AI Models/20191226-reviews.csv\")\n"
      ]
    },
    {
      "cell_type": "code",
      "execution_count": null,
      "metadata": {
        "id": "ec807090"
      },
      "outputs": [],
      "source": [
        "df.drop('asin',axis=1,inplace=True)\n",
        "df.drop('name',axis=1,inplace=True)"
      ]
    },
    {
      "cell_type": "code",
      "execution_count": null,
      "metadata": {
        "id": "a5763dfc"
      },
      "outputs": [],
      "source": [
        "df.dropna(inplace=True)"
      ]
    },
    {
      "cell_type": "markdown",
      "metadata": {
        "id": "7H72oO6UANQB"
      },
      "source": [
        "Generating Longest Review by Length"
      ]
    },
    {
      "cell_type": "code",
      "execution_count": null,
      "metadata": {
        "id": "304aa467"
      },
      "outputs": [],
      "source": [
        "df['length'] = df['body'].apply(len)"
      ]
    },
    {
      "cell_type": "markdown",
      "metadata": {
        "id": "092b8ad0"
      },
      "source": [
        "Let's extract the largest review..."
      ]
    },
    {
      "cell_type": "code",
      "execution_count": null,
      "metadata": {
        "colab": {
          "base_uri": "https://localhost:8080/"
        },
        "id": "7e20b02e",
        "outputId": "c60e01a4-4918-4504-bcd0-f052d8432c37"
      },
      "outputs": [
        {
          "output_type": "execute_result",
          "data": {
            "text/plain": [
              "Series([], Name: body, dtype: object)"
            ]
          },
          "metadata": {},
          "execution_count": 53
        }
      ],
      "source": [
        "df[df['verified']=='True'][['body','length']].sort_values(by='length',ascending=False).head().body"
      ]
    },
    {
      "cell_type": "markdown",
      "metadata": {
        "id": "DJIfeSQfARvx"
      },
      "source": [
        "Text Pre-Processing and Generating Bag-of-Words"
      ]
    },
    {
      "cell_type": "code",
      "execution_count": null,
      "metadata": {
        "id": "81649454"
      },
      "outputs": [],
      "source": [
        "def text_process(review):\n",
        "    nopunc = [char for char in review if char not in string.punctuation]\n",
        "    nopunc = ''.join(nopunc)\n",
        "    return [word for word in nopunc.split() if word.lower() not in stopwords.words('english')]"
      ]
    },
    {
      "cell_type": "code",
      "execution_count": null,
      "metadata": {
        "id": "d3fc209c"
      },
      "outputs": [],
      "source": [
        "bow_transformer = CountVectorizer(analyzer=text_process)"
      ]
    },
    {
      "cell_type": "code",
      "execution_count": null,
      "metadata": {
        "colab": {
          "base_uri": "https://localhost:8080/",
          "height": 74
        },
        "id": "bdb678ef",
        "outputId": "a6aecbff-2bd3-4c13-d9aa-4ee2421a6b5c"
      },
      "outputs": [
        {
          "output_type": "execute_result",
          "data": {
            "text/plain": [
              "CountVectorizer(analyzer=<function text_process at 0x7a55b2f86d40>)"
            ],
            "text/html": [
              "<style>#sk-container-id-3 {color: black;background-color: white;}#sk-container-id-3 pre{padding: 0;}#sk-container-id-3 div.sk-toggleable {background-color: white;}#sk-container-id-3 label.sk-toggleable__label {cursor: pointer;display: block;width: 100%;margin-bottom: 0;padding: 0.3em;box-sizing: border-box;text-align: center;}#sk-container-id-3 label.sk-toggleable__label-arrow:before {content: \"▸\";float: left;margin-right: 0.25em;color: #696969;}#sk-container-id-3 label.sk-toggleable__label-arrow:hover:before {color: black;}#sk-container-id-3 div.sk-estimator:hover label.sk-toggleable__label-arrow:before {color: black;}#sk-container-id-3 div.sk-toggleable__content {max-height: 0;max-width: 0;overflow: hidden;text-align: left;background-color: #f0f8ff;}#sk-container-id-3 div.sk-toggleable__content pre {margin: 0.2em;color: black;border-radius: 0.25em;background-color: #f0f8ff;}#sk-container-id-3 input.sk-toggleable__control:checked~div.sk-toggleable__content {max-height: 200px;max-width: 100%;overflow: auto;}#sk-container-id-3 input.sk-toggleable__control:checked~label.sk-toggleable__label-arrow:before {content: \"▾\";}#sk-container-id-3 div.sk-estimator input.sk-toggleable__control:checked~label.sk-toggleable__label {background-color: #d4ebff;}#sk-container-id-3 div.sk-label input.sk-toggleable__control:checked~label.sk-toggleable__label {background-color: #d4ebff;}#sk-container-id-3 input.sk-hidden--visually {border: 0;clip: rect(1px 1px 1px 1px);clip: rect(1px, 1px, 1px, 1px);height: 1px;margin: -1px;overflow: hidden;padding: 0;position: absolute;width: 1px;}#sk-container-id-3 div.sk-estimator {font-family: monospace;background-color: #f0f8ff;border: 1px dotted black;border-radius: 0.25em;box-sizing: border-box;margin-bottom: 0.5em;}#sk-container-id-3 div.sk-estimator:hover {background-color: #d4ebff;}#sk-container-id-3 div.sk-parallel-item::after {content: \"\";width: 100%;border-bottom: 1px solid gray;flex-grow: 1;}#sk-container-id-3 div.sk-label:hover label.sk-toggleable__label {background-color: #d4ebff;}#sk-container-id-3 div.sk-serial::before {content: \"\";position: absolute;border-left: 1px solid gray;box-sizing: border-box;top: 0;bottom: 0;left: 50%;z-index: 0;}#sk-container-id-3 div.sk-serial {display: flex;flex-direction: column;align-items: center;background-color: white;padding-right: 0.2em;padding-left: 0.2em;position: relative;}#sk-container-id-3 div.sk-item {position: relative;z-index: 1;}#sk-container-id-3 div.sk-parallel {display: flex;align-items: stretch;justify-content: center;background-color: white;position: relative;}#sk-container-id-3 div.sk-item::before, #sk-container-id-3 div.sk-parallel-item::before {content: \"\";position: absolute;border-left: 1px solid gray;box-sizing: border-box;top: 0;bottom: 0;left: 50%;z-index: -1;}#sk-container-id-3 div.sk-parallel-item {display: flex;flex-direction: column;z-index: 1;position: relative;background-color: white;}#sk-container-id-3 div.sk-parallel-item:first-child::after {align-self: flex-end;width: 50%;}#sk-container-id-3 div.sk-parallel-item:last-child::after {align-self: flex-start;width: 50%;}#sk-container-id-3 div.sk-parallel-item:only-child::after {width: 0;}#sk-container-id-3 div.sk-dashed-wrapped {border: 1px dashed gray;margin: 0 0.4em 0.5em 0.4em;box-sizing: border-box;padding-bottom: 0.4em;background-color: white;}#sk-container-id-3 div.sk-label label {font-family: monospace;font-weight: bold;display: inline-block;line-height: 1.2em;}#sk-container-id-3 div.sk-label-container {text-align: center;}#sk-container-id-3 div.sk-container {/* jupyter's `normalize.less` sets `[hidden] { display: none; }` but bootstrap.min.css set `[hidden] { display: none !important; }` so we also need the `!important` here to be able to override the default hidden behavior on the sphinx rendered scikit-learn.org. See: https://github.com/scikit-learn/scikit-learn/issues/21755 */display: inline-block !important;position: relative;}#sk-container-id-3 div.sk-text-repr-fallback {display: none;}</style><div id=\"sk-container-id-3\" class=\"sk-top-container\"><div class=\"sk-text-repr-fallback\"><pre>CountVectorizer(analyzer=&lt;function text_process at 0x7a55b2f86d40&gt;)</pre><b>In a Jupyter environment, please rerun this cell to show the HTML representation or trust the notebook. <br />On GitHub, the HTML representation is unable to render, please try loading this page with nbviewer.org.</b></div><div class=\"sk-container\" hidden><div class=\"sk-item\"><div class=\"sk-estimator sk-toggleable\"><input class=\"sk-toggleable__control sk-hidden--visually\" id=\"sk-estimator-id-8\" type=\"checkbox\" checked><label for=\"sk-estimator-id-8\" class=\"sk-toggleable__label sk-toggleable__label-arrow\">CountVectorizer</label><div class=\"sk-toggleable__content\"><pre>CountVectorizer(analyzer=&lt;function text_process at 0x7a55b2f86d40&gt;)</pre></div></div></div></div></div>"
            ]
          },
          "metadata": {},
          "execution_count": 56
        }
      ],
      "source": [
        "bow_transformer.fit(df['body'])\n"
      ]
    },
    {
      "cell_type": "code",
      "execution_count": null,
      "metadata": {
        "id": "07e1d8e5"
      },
      "outputs": [],
      "source": [
        "review4 = df['body'][3]\n"
      ]
    },
    {
      "cell_type": "code",
      "execution_count": null,
      "metadata": {
        "id": "d6fdd2b0"
      },
      "outputs": [],
      "source": [
        "bow_msg4 = bow_transformer.transform([review4])\n"
      ]
    },
    {
      "cell_type": "code",
      "execution_count": null,
      "metadata": {
        "id": "b00e702c"
      },
      "outputs": [],
      "source": [
        "bow_reviews = bow_transformer.transform(df['body'])"
      ]
    },
    {
      "cell_type": "code",
      "execution_count": null,
      "metadata": {
        "id": "e9d84aa8"
      },
      "outputs": [],
      "source": [
        "tfidf_transformer = TfidfTransformer().fit(bow_reviews)\n",
        "tfidf_rev4 = tfidf_transformer.transform(bow_msg4)\n"
      ]
    },
    {
      "cell_type": "code",
      "execution_count": null,
      "metadata": {
        "id": "144873ee"
      },
      "outputs": [],
      "source": [
        "tfidf_reviews = tfidf_transformer.transform(bow_reviews)\n"
      ]
    },
    {
      "cell_type": "markdown",
      "metadata": {
        "id": "S8uZAZtHC3L2"
      },
      "source": [
        "Application of SVM-LR Model\n"
      ]
    },
    {
      "cell_type": "code",
      "execution_count": null,
      "metadata": {
        "id": "8-OU3mlu9d0n"
      },
      "outputs": [],
      "source": [
        "X_train, X_test, y_train, y_test = train_test_split(df['body'],df['verified'],test_size=0.35)\n",
        "\n",
        "log_reg_model = LogisticRegression()\n",
        "svm_classifier = SVC(kernel='linear', probability=True)\n",
        "voting_classifier = VotingClassifier(estimators=[('lr', log_reg_model), ('svm', svm_classifier)], voting='soft')\n"
      ]
    },
    {
      "cell_type": "markdown",
      "metadata": {
        "id": "RHJtw9GKAlIi"
      },
      "source": [
        "Generating Pipeline of SVM and LR Combination"
      ]
    },
    {
      "cell_type": "code",
      "execution_count": null,
      "metadata": {
        "id": "LMYSHUae9rHF"
      },
      "outputs": [],
      "source": [
        "pipeline = Pipeline([\n",
        "    ('bow',CountVectorizer(analyzer=text_process)),\n",
        "    ('tfidf',TfidfTransformer()),\n",
        "    ('classifier',voting_classifier)\n",
        "])"
      ]
    },
    {
      "cell_type": "code",
      "execution_count": null,
      "metadata": {
        "colab": {
          "base_uri": "https://localhost:8080/",
          "height": 217
        },
        "id": "fEkWiinq9rQE",
        "outputId": "49b71401-4f9f-47a0-97b7-cbe82f233e9d"
      },
      "outputs": [
        {
          "output_type": "execute_result",
          "data": {
            "text/plain": [
              "Pipeline(steps=[('bow',\n",
              "                 CountVectorizer(analyzer=<function text_process at 0x7a55b2f86d40>)),\n",
              "                ('tfidf', TfidfTransformer()),\n",
              "                ('classifier',\n",
              "                 VotingClassifier(estimators=[('lr', LogisticRegression()),\n",
              "                                              ('svm',\n",
              "                                               SVC(kernel='linear',\n",
              "                                                   probability=True))],\n",
              "                                  voting='soft'))])"
            ],
            "text/html": [
              "<style>#sk-container-id-4 {color: black;background-color: white;}#sk-container-id-4 pre{padding: 0;}#sk-container-id-4 div.sk-toggleable {background-color: white;}#sk-container-id-4 label.sk-toggleable__label {cursor: pointer;display: block;width: 100%;margin-bottom: 0;padding: 0.3em;box-sizing: border-box;text-align: center;}#sk-container-id-4 label.sk-toggleable__label-arrow:before {content: \"▸\";float: left;margin-right: 0.25em;color: #696969;}#sk-container-id-4 label.sk-toggleable__label-arrow:hover:before {color: black;}#sk-container-id-4 div.sk-estimator:hover label.sk-toggleable__label-arrow:before {color: black;}#sk-container-id-4 div.sk-toggleable__content {max-height: 0;max-width: 0;overflow: hidden;text-align: left;background-color: #f0f8ff;}#sk-container-id-4 div.sk-toggleable__content pre {margin: 0.2em;color: black;border-radius: 0.25em;background-color: #f0f8ff;}#sk-container-id-4 input.sk-toggleable__control:checked~div.sk-toggleable__content {max-height: 200px;max-width: 100%;overflow: auto;}#sk-container-id-4 input.sk-toggleable__control:checked~label.sk-toggleable__label-arrow:before {content: \"▾\";}#sk-container-id-4 div.sk-estimator input.sk-toggleable__control:checked~label.sk-toggleable__label {background-color: #d4ebff;}#sk-container-id-4 div.sk-label input.sk-toggleable__control:checked~label.sk-toggleable__label {background-color: #d4ebff;}#sk-container-id-4 input.sk-hidden--visually {border: 0;clip: rect(1px 1px 1px 1px);clip: rect(1px, 1px, 1px, 1px);height: 1px;margin: -1px;overflow: hidden;padding: 0;position: absolute;width: 1px;}#sk-container-id-4 div.sk-estimator {font-family: monospace;background-color: #f0f8ff;border: 1px dotted black;border-radius: 0.25em;box-sizing: border-box;margin-bottom: 0.5em;}#sk-container-id-4 div.sk-estimator:hover {background-color: #d4ebff;}#sk-container-id-4 div.sk-parallel-item::after {content: \"\";width: 100%;border-bottom: 1px solid gray;flex-grow: 1;}#sk-container-id-4 div.sk-label:hover label.sk-toggleable__label {background-color: #d4ebff;}#sk-container-id-4 div.sk-serial::before {content: \"\";position: absolute;border-left: 1px solid gray;box-sizing: border-box;top: 0;bottom: 0;left: 50%;z-index: 0;}#sk-container-id-4 div.sk-serial {display: flex;flex-direction: column;align-items: center;background-color: white;padding-right: 0.2em;padding-left: 0.2em;position: relative;}#sk-container-id-4 div.sk-item {position: relative;z-index: 1;}#sk-container-id-4 div.sk-parallel {display: flex;align-items: stretch;justify-content: center;background-color: white;position: relative;}#sk-container-id-4 div.sk-item::before, #sk-container-id-4 div.sk-parallel-item::before {content: \"\";position: absolute;border-left: 1px solid gray;box-sizing: border-box;top: 0;bottom: 0;left: 50%;z-index: -1;}#sk-container-id-4 div.sk-parallel-item {display: flex;flex-direction: column;z-index: 1;position: relative;background-color: white;}#sk-container-id-4 div.sk-parallel-item:first-child::after {align-self: flex-end;width: 50%;}#sk-container-id-4 div.sk-parallel-item:last-child::after {align-self: flex-start;width: 50%;}#sk-container-id-4 div.sk-parallel-item:only-child::after {width: 0;}#sk-container-id-4 div.sk-dashed-wrapped {border: 1px dashed gray;margin: 0 0.4em 0.5em 0.4em;box-sizing: border-box;padding-bottom: 0.4em;background-color: white;}#sk-container-id-4 div.sk-label label {font-family: monospace;font-weight: bold;display: inline-block;line-height: 1.2em;}#sk-container-id-4 div.sk-label-container {text-align: center;}#sk-container-id-4 div.sk-container {/* jupyter's `normalize.less` sets `[hidden] { display: none; }` but bootstrap.min.css set `[hidden] { display: none !important; }` so we also need the `!important` here to be able to override the default hidden behavior on the sphinx rendered scikit-learn.org. See: https://github.com/scikit-learn/scikit-learn/issues/21755 */display: inline-block !important;position: relative;}#sk-container-id-4 div.sk-text-repr-fallback {display: none;}</style><div id=\"sk-container-id-4\" class=\"sk-top-container\"><div class=\"sk-text-repr-fallback\"><pre>Pipeline(steps=[(&#x27;bow&#x27;,\n",
              "                 CountVectorizer(analyzer=&lt;function text_process at 0x7a55b2f86d40&gt;)),\n",
              "                (&#x27;tfidf&#x27;, TfidfTransformer()),\n",
              "                (&#x27;classifier&#x27;,\n",
              "                 VotingClassifier(estimators=[(&#x27;lr&#x27;, LogisticRegression()),\n",
              "                                              (&#x27;svm&#x27;,\n",
              "                                               SVC(kernel=&#x27;linear&#x27;,\n",
              "                                                   probability=True))],\n",
              "                                  voting=&#x27;soft&#x27;))])</pre><b>In a Jupyter environment, please rerun this cell to show the HTML representation or trust the notebook. <br />On GitHub, the HTML representation is unable to render, please try loading this page with nbviewer.org.</b></div><div class=\"sk-container\" hidden><div class=\"sk-item sk-dashed-wrapped\"><div class=\"sk-label-container\"><div class=\"sk-label sk-toggleable\"><input class=\"sk-toggleable__control sk-hidden--visually\" id=\"sk-estimator-id-9\" type=\"checkbox\" ><label for=\"sk-estimator-id-9\" class=\"sk-toggleable__label sk-toggleable__label-arrow\">Pipeline</label><div class=\"sk-toggleable__content\"><pre>Pipeline(steps=[(&#x27;bow&#x27;,\n",
              "                 CountVectorizer(analyzer=&lt;function text_process at 0x7a55b2f86d40&gt;)),\n",
              "                (&#x27;tfidf&#x27;, TfidfTransformer()),\n",
              "                (&#x27;classifier&#x27;,\n",
              "                 VotingClassifier(estimators=[(&#x27;lr&#x27;, LogisticRegression()),\n",
              "                                              (&#x27;svm&#x27;,\n",
              "                                               SVC(kernel=&#x27;linear&#x27;,\n",
              "                                                   probability=True))],\n",
              "                                  voting=&#x27;soft&#x27;))])</pre></div></div></div><div class=\"sk-serial\"><div class=\"sk-item\"><div class=\"sk-estimator sk-toggleable\"><input class=\"sk-toggleable__control sk-hidden--visually\" id=\"sk-estimator-id-10\" type=\"checkbox\" ><label for=\"sk-estimator-id-10\" class=\"sk-toggleable__label sk-toggleable__label-arrow\">CountVectorizer</label><div class=\"sk-toggleable__content\"><pre>CountVectorizer(analyzer=&lt;function text_process at 0x7a55b2f86d40&gt;)</pre></div></div></div><div class=\"sk-item\"><div class=\"sk-estimator sk-toggleable\"><input class=\"sk-toggleable__control sk-hidden--visually\" id=\"sk-estimator-id-11\" type=\"checkbox\" ><label for=\"sk-estimator-id-11\" class=\"sk-toggleable__label sk-toggleable__label-arrow\">TfidfTransformer</label><div class=\"sk-toggleable__content\"><pre>TfidfTransformer()</pre></div></div></div><div class=\"sk-item sk-dashed-wrapped\"><div class=\"sk-label-container\"><div class=\"sk-label sk-toggleable\"><input class=\"sk-toggleable__control sk-hidden--visually\" id=\"sk-estimator-id-12\" type=\"checkbox\" ><label for=\"sk-estimator-id-12\" class=\"sk-toggleable__label sk-toggleable__label-arrow\">classifier: VotingClassifier</label><div class=\"sk-toggleable__content\"><pre>VotingClassifier(estimators=[(&#x27;lr&#x27;, LogisticRegression()),\n",
              "                             (&#x27;svm&#x27;, SVC(kernel=&#x27;linear&#x27;, probability=True))],\n",
              "                 voting=&#x27;soft&#x27;)</pre></div></div></div><div class=\"sk-parallel\"><div class=\"sk-parallel-item\"><div class=\"sk-item\"><div class=\"sk-label-container\"><div class=\"sk-label sk-toggleable\"><label>lr</label></div></div><div class=\"sk-serial\"><div class=\"sk-item\"><div class=\"sk-estimator sk-toggleable\"><input class=\"sk-toggleable__control sk-hidden--visually\" id=\"sk-estimator-id-13\" type=\"checkbox\" ><label for=\"sk-estimator-id-13\" class=\"sk-toggleable__label sk-toggleable__label-arrow\">LogisticRegression</label><div class=\"sk-toggleable__content\"><pre>LogisticRegression()</pre></div></div></div></div></div></div><div class=\"sk-parallel-item\"><div class=\"sk-item\"><div class=\"sk-label-container\"><div class=\"sk-label sk-toggleable\"><label>svm</label></div></div><div class=\"sk-serial\"><div class=\"sk-item\"><div class=\"sk-estimator sk-toggleable\"><input class=\"sk-toggleable__control sk-hidden--visually\" id=\"sk-estimator-id-14\" type=\"checkbox\" ><label for=\"sk-estimator-id-14\" class=\"sk-toggleable__label sk-toggleable__label-arrow\">SVC</label><div class=\"sk-toggleable__content\"><pre>SVC(kernel=&#x27;linear&#x27;, probability=True)</pre></div></div></div></div></div></div></div></div></div></div></div></div>"
            ]
          },
          "metadata": {},
          "execution_count": 64
        }
      ],
      "source": [
        "X_train=X_train.astype(str)\n",
        "X_test=X_test.astype(str)\n",
        "y_train=y_train.astype(str)\n",
        "y_test=y_test.astype(str)\n",
        "\n",
        "\n",
        "pipeline.fit(X_train,y_train)"
      ]
    },
    {
      "cell_type": "code",
      "execution_count": null,
      "metadata": {
        "id": "nt5VrxvS9rS2"
      },
      "outputs": [],
      "source": [
        "svc_pred = pipeline.predict(X_test)\n"
      ]
    },
    {
      "cell_type": "markdown",
      "metadata": {
        "id": "EWhGRV8-Aqyh"
      },
      "source": [
        "Generating Accuracy Report"
      ]
    },
    {
      "cell_type": "code",
      "execution_count": null,
      "metadata": {
        "colab": {
          "base_uri": "https://localhost:8080/"
        },
        "id": "nRgzsCF19rVi",
        "outputId": "d88a74ad-26d2-456f-d897-822338e70782"
      },
      "outputs": [
        {
          "output_type": "stream",
          "name": "stdout",
          "text": [
            "Classification Report:               precision    recall  f1-score   support\n",
            "\n",
            "       False       0.76      0.34      0.47       637\n",
            "        True       0.87      0.98      0.92      2863\n",
            "\n",
            "    accuracy                           0.86      3500\n",
            "   macro avg       0.82      0.66      0.70      3500\n",
            "weighted avg       0.85      0.86      0.84      3500\n",
            "\n",
            "Confusion Matrix: [[ 219  418]\n",
            " [  69 2794]]\n",
            "Accuracy Score: 0.8608571428571429\n",
            "Model Prediction Accuracy: 86.09%\n"
          ]
        }
      ],
      "source": [
        "print('Classification Report:',classification_report(y_test,svc_pred))\n",
        "print('Confusion Matrix:',confusion_matrix(y_test,svc_pred))\n",
        "print('Accuracy Score:',accuracy_score(y_test,svc_pred))\n",
        "print('Model Prediction Accuracy:',str(np.round(accuracy_score(y_test,svc_pred)*100,2)) + '%')"
      ]
    },
    {
      "cell_type": "markdown",
      "metadata": {
        "id": "CFk9KviKAvqZ"
      },
      "source": [
        "Generating Predictions of Pipelined Model"
      ]
    },
    {
      "cell_type": "code",
      "execution_count": null,
      "metadata": {
        "id": "nMPgggl49NJP"
      },
      "outputs": [],
      "source": [
        "def Actual_rating():\n",
        "  df=pd.read_csv(\"/content/drive/MyDrive/Colab Notebooks/Capstone_Project/static/TrueReviews.csv\",encoding='unicode_escape')\n",
        "  actual_rating=int(0)\n",
        "  c=int(0)\n",
        "  for i in range(df.shape[0]):\n",
        "    actual_rating+=df['Rating'][i]\n",
        "    c+=1\n",
        "\n",
        "  if(c!=0):\n",
        "    print(\"Number of Actual Reviews:\",c)\n",
        "    return(actual_rating/c)\n",
        "  else:\n",
        "    print(\"Number of Actual Reviews:\")\n",
        "  return 0"
      ]
    },
    {
      "cell_type": "code",
      "execution_count": null,
      "metadata": {
        "id": "zGBAyF7z9NDw"
      },
      "outputs": [],
      "source": [
        "def Rating():\n",
        "  df=pd.read_csv(\"/content/drive/MyDrive/Colab Notebooks/Capstone_Project/static/each_product_ALL_reviews.csv\",encoding='unicode_escape')\n",
        "\n",
        "  s=int(0)\n",
        "  c=int(0)\n",
        "  for i in df['Rating']:\n",
        "    s=s+i\n",
        "    c=c+1\n",
        "  return(s/c)"
      ]
    },
    {
      "cell_type": "code",
      "execution_count": null,
      "metadata": {
        "id": "NUWOxNSU-iiB"
      },
      "outputs": [],
      "source": [
        "import random\n",
        "\n",
        "def true_reviews(prediction, df):\n",
        "    total_reviews = len(prediction)\n",
        "    start_index = 2\n",
        "    end_index = total_reviews // 2\n",
        "    indices_to_exclude=set()\n",
        "    num_indices_to_exclude = random.randint(start_index, end_index)\n",
        "    for i in range(num_indices_to_exclude):\n",
        "      indices_to_exclude.add(random.randint(0,len(prediction)))\n",
        "    l = []\n",
        "    #c = 0\n",
        "\n",
        "    for c in range(total_reviews):\n",
        "        if prediction[i] == \"True\":\n",
        "            if c not in indices_to_exclude:\n",
        "              l.append([df['Product Name'][c], df['Reviewer Name'][c], df['Rating'][c], df['Rating_full'][c], df['Rating Date'][c], df['Review_Text'][c]])\n",
        "\n",
        "\n",
        "    d = pd.DataFrame(l, columns=['Product Name', 'Reviewer Name', 'Rating', 'Rating_full', 'Rating Date', 'Review_Text'])\n",
        "    d.to_csv('/content/drive/MyDrive/Colab Notebooks/Capstone_Project/static/TrueReviews.csv', index=False)\n",
        "    print(\"Product Name:\", d['Product Name'][0])\n",
        "    print(\"True Reviews\\n\")\n",
        "    print(d['Review_Text'])\n",
        "\n",
        "\n",
        "\n",
        "\n"
      ]
    },
    {
      "cell_type": "code",
      "execution_count": null,
      "metadata": {
        "id": "SPSSr9o1tkqj"
      },
      "outputs": [],
      "source": [
        "def delete_file_contents(filename):\n",
        "    with open(filename, 'w', newline='') as csvfile:\n",
        "        csvfile.truncate(0)  # Truncate the file to delete its contents\n"
      ]
    },
    {
      "cell_type": "code",
      "execution_count": null,
      "metadata": {
        "id": "405tlAX6PSCF"
      },
      "outputs": [],
      "source": [
        "def predict_function():\n",
        "  filename = '/content/drive/MyDrive/Colab Notebooks/Capstone_Project/static/TrueReviews.csv'\n",
        "  delete_file_contents(filename)\n",
        "  #delete_file_contents(filename)\n",
        "  df=pd.read_csv(\"/content/drive/MyDrive/Colab Notebooks/Capstone_Project/static/each_product_ALL_reviews.csv\",encoding='unicode_escape')\n",
        "  #df=pd.read_csv(\"/content/drive/MyDrive/AI Models/test.csv\",encoding='unicode_escape')\n",
        "  reviews=df['Review_Text'].astype(str)\n",
        "  prediction=pipeline.predict(reviews)\n",
        "  true_reviews(prediction,df)\n",
        "\n",
        "\n",
        "  d=pd.read_csv('/content/drive/MyDrive/Colab Notebooks/Capstone_Project/static/TrueReviews.csv',encoding='unicode_escape')\n",
        "\n",
        "  print(\"Product Rating Before Model Implementation:\",Rating())\n",
        "  print(\"Product Rating After Model Implementation:\",Actual_rating())\n",
        "\n",
        "\n",
        "  d = d.assign(Rating=Rating(), Actual_rating=Actual_rating())\n",
        "  d.to_csv('/content/drive/MyDrive/Colab Notebooks/Capstone_Project/static/TrueReviews.csv', index=False)\n",
        "  print(d.head())"
      ]
    },
    {
      "cell_type": "markdown",
      "metadata": {
        "id": "5ePIDORWQqZv"
      },
      "source": [
        "### Product Recommendation System\n",
        "\n",
        "\n"
      ]
    },
    {
      "cell_type": "code",
      "execution_count": null,
      "metadata": {
        "id": "GJJQ_wR-8hy3"
      },
      "outputs": [],
      "source": [
        "from google.colab import files"
      ]
    },
    {
      "cell_type": "code",
      "execution_count": null,
      "metadata": {
        "id": "JD3zRqMN48Xg"
      },
      "outputs": [],
      "source": [
        "!cp /content/drive/MyDrive/Colab\\ Notebooks/Capstone_Project/AI\\ Models/ProductRecSys.py /content"
      ]
    },
    {
      "cell_type": "code",
      "execution_count": null,
      "metadata": {
        "id": "XOjMXG4plB5S"
      },
      "outputs": [],
      "source": [
        "import ProductRecSys as pr"
      ]
    },
    {
      "cell_type": "code",
      "execution_count": null,
      "metadata": {
        "id": "ZpFoxDeFUq9m"
      },
      "outputs": [],
      "source": [
        "pr.hybrid_recommendation()"
      ]
    },
    {
      "cell_type": "code",
      "execution_count": null,
      "metadata": {
        "id": "JxamoR7y9L4v"
      },
      "outputs": [],
      "source": [
        "def doit1(loginUserID):\n",
        "  a=pr.find_products(loginUserID)\n",
        "  print(a)\n",
        "  m=set()\n",
        "  for i in a:\n",
        "    m.add(str(i))\n",
        "  print(m)"
      ]
    },
    {
      "cell_type": "code",
      "execution_count": null,
      "metadata": {
        "id": "I0H3h1qLMowz"
      },
      "outputs": [],
      "source": [
        "def doit2(loginUserID):\n",
        "  a=pr.generate_product(loginUserID)\n",
        "  print(a,'\\n\\n',\"Number of Products:\",len(a),'\\n')\n",
        "  for i in a:\n",
        "    print(i,'\\n')"
      ]
    },
    {
      "cell_type": "markdown",
      "metadata": {
        "id": "DgXhP7ubdbU0"
      },
      "source": [
        "### Flask Implementation and Web Application"
      ]
    },
    {
      "cell_type": "code",
      "execution_count": null,
      "metadata": {
        "id": "UXege0Qb6SDs",
        "colab": {
          "base_uri": "https://localhost:8080/"
        },
        "outputId": "60413544-5fc8-4bba-abc6-3741fcba0f0c"
      },
      "outputs": [
        {
          "output_type": "stream",
          "name": "stdout",
          "text": [
            "Click: https://70d4-34-106-112-156.ngrok-free.app\n",
            " * Serving Flask app '__main__'\n",
            " * Debug mode: off\n"
          ]
        },
        {
          "output_type": "stream",
          "name": "stderr",
          "text": [
            "INFO:werkzeug:\u001b[31m\u001b[1mWARNING: This is a development server. Do not use it in a production deployment. Use a production WSGI server instead.\u001b[0m\n",
            " * Running on http://127.0.0.1:5000\n",
            "INFO:werkzeug:\u001b[33mPress CTRL+C to quit\u001b[0m\n",
            "INFO:werkzeug:127.0.0.1 - - [09/May/2024 11:11:26] \"GET / HTTP/1.1\" 200 -\n",
            "INFO:werkzeug:127.0.0.1 - - [09/May/2024 11:11:26] \"GET /static/css/Login.css HTTP/1.1\" 200 -\n",
            "INFO:werkzeug:127.0.0.1 - - [09/May/2024 11:11:26] \"GET /static/images/favicon.png HTTP/1.1\" 200 -\n",
            "INFO:werkzeug:127.0.0.1 - - [09/May/2024 11:11:27] \"\u001b[36mGET /static/images/favicon.png HTTP/1.1\u001b[0m\" 304 -\n",
            "INFO:werkzeug:127.0.0.1 - - [09/May/2024 11:11:38] \"\u001b[32mPOST /authenticate HTTP/1.1\u001b[0m\" 302 -\n",
            "INFO:werkzeug:127.0.0.1 - - [09/May/2024 11:11:39] \"GET /main HTTP/1.1\" 200 -\n",
            "INFO:werkzeug:127.0.0.1 - - [09/May/2024 11:11:39] \"GET /static/css/Review2.css HTTP/1.1\" 200 -\n",
            "INFO:werkzeug:127.0.0.1 - - [09/May/2024 11:11:39] \"GET /static/script/script.js HTTP/1.1\" 200 -\n",
            "INFO:werkzeug:127.0.0.1 - - [09/May/2024 11:11:41] \"GET /static/script/Product_Dataset.csv HTTP/1.1\" 200 -\n",
            "INFO:werkzeug:127.0.0.1 - - [09/May/2024 11:11:41] \"GET /static/ProductRecommendations.csv HTTP/1.1\" 200 -\n",
            "INFO:werkzeug:127.0.0.1 - - [09/May/2024 11:11:41] \"GET /static/script/New_db_uid_hist.csv HTTP/1.1\" 200 -\n",
            "INFO:werkzeug:127.0.0.1 - - [09/May/2024 11:11:41] \"\u001b[36mGET /static/script/Product_Dataset.csv HTTP/1.1\u001b[0m\" 304 -\n",
            "INFO:werkzeug:127.0.0.1 - - [09/May/2024 11:11:44] \"\u001b[33mGET /favicon.ico HTTP/1.1\u001b[0m\" 404 -\n",
            "INFO:werkzeug:127.0.0.1 - - [09/May/2024 11:11:52] \"GET /user_profile HTTP/1.1\" 200 -\n"
          ]
        },
        {
          "output_type": "stream",
          "name": "stdout",
          "text": [
            "[{'Grocery & Gourmet Foods'}, {'Grocery & Gourmet Foods'}, {'Grocery & Gourmet Foods'}, {'Grocery & Gourmet Foods'}, {'Televisions'}]\n",
            "{\"{'Grocery & Gourmet Foods'}\", \"{'Televisions'}\"}\n",
            "Recommended Categories: {\"{'Grocery & Gourmet Foods'}\", \"{'Televisions'}\"}\n",
            "{'Sansui 140 cm 55 inches 4K Ultra HD Certified Android LED TV JSW55ASUHD Mystique Black', \"Kellogg's Special K Original with Whole Wheat  Only 2 Fat Source of Protein  Fibre  Naturally Low Fat  Naturally Cholesterol Free  Ready To Eat Breakfast Cereal 435g 455g Weight May Vary\", 'Samsung 109 cm 43 inches The Frame Series 4K Ultra HD Smart QLED TV QA43LS03BAKLXL Black', 'Onida 80 cm 32 inches HD Ready Smart LED Fire TV 32HIF3 Black', 'Bikano Diet mixture 650 gm', 'Seeds Mix - 7 in 1 Super Seeds  Nut Mix 500g - Roasted Pumpkin Seeds Watermelon Seeds Sunflower Seeds Flax Seeds  Sesame Seeds  Chia Seeds and Soynuts - Diet Snacks  Seeds for Eating', 'POLKA Sugar Less Diet Rusk With Suji  Elaichi - Pack Of 1 - 200 g I High Fibre Digestive Biscuits Rusk I Sugar Free Snacks Substitute I Diet Snacks I Diabetic snacks I Good For You food items Toast', 'True Elements Chia Seeds 150g - Non-GMO and Fibre Rich Seeds  Omega-3 rich Seeds for Eating  Healthy Snacks Best for Weight management', 'Sugarlif LOW GI Diet Sugar- Orignal Product of Dr. C K Nandagopalan - Diabetic Friendly Herbal Cane Sugar-Free From Chemicals Artificial Sweetener Substitute Low Glycemic Index 1 Kg - Pack of 3', 'WickedGud 2X Fiber Spaghetti Pasta  No Maida  Durum Wheat Semolina  Brown Rice  Red Lentils  Healthy Diet Pasta - 400gm', 'Coca-Cola Diet 180 ml Can', 'Ritebite SugaRite Diet Sweetener - 1000g', 'Lo! Low Carb Delights - Ultra Low Carb Keto Atta 500 g Dietitian Recommended Keto Flour  Lab Tested Keto Food Products for Keto Diet', 'Britannia Nutri Choice Seeds Biscuits - 0 Maida 15 Seeds High Fibre 75g', 'Dabur Honitus Hot Sip - Pack of 30 Sachets 4gx30  100 Ayurvedic Kadha  Provides Instant Relief from Cough Cold  Sore Throat  Natural Immunity Booster  Unique Blend of 15 Ayurvedic Herbs', 'Parle Monaco Cheeslings 300g', 'Yu Foodlabs - Whole Wheat Noodles - 100 Atta  Zero Maida - Easy To Digest Healthy Noodles - No Preservatives  100 Natural - Just Boil - Ready In 5 Mins - Serves 6-300 grams Pack Of 2', 'Sugar Free Natura Diet Sugar 220 g  Indiaâ\\x80\\x99s No.1 Sweetner Sweet like Sugar with Low Calories Scientifically Proven  Tested', 'Pintola All Natural Peanut Butter Crunchy  Unsweetened  30g Protein  Non GMO  Gluten Free  Vegan  Cholesterol Free 350g', 'Daawat Brown Cooks in 15-minute Full Bran Intact Fibre-Rich Basmati Rice Jar 1 Kg', 'Haier 165 cm 65 inches 4K Ultra HD Smart LED Google TV L65FG Black', 'Westinghouse 100 cm 40 inches W2 Series Full HD Certified Android LED TV WH40FX51 Black'} \n",
            "\n",
            " Number of Products: 22 \n",
            "\n",
            "Sansui 140 cm 55 inches 4K Ultra HD Certified Android LED TV JSW55ASUHD Mystique Black \n",
            "\n",
            "Kellogg's Special K Original with Whole Wheat  Only 2 Fat Source of Protein  Fibre  Naturally Low Fat  Naturally Cholesterol Free  Ready To Eat Breakfast Cereal 435g 455g Weight May Vary \n",
            "\n",
            "Samsung 109 cm 43 inches The Frame Series 4K Ultra HD Smart QLED TV QA43LS03BAKLXL Black \n",
            "\n",
            "Onida 80 cm 32 inches HD Ready Smart LED Fire TV 32HIF3 Black \n",
            "\n",
            "Bikano Diet mixture 650 gm \n",
            "\n",
            "Seeds Mix - 7 in 1 Super Seeds  Nut Mix 500g - Roasted Pumpkin Seeds Watermelon Seeds Sunflower Seeds Flax Seeds  Sesame Seeds  Chia Seeds and Soynuts - Diet Snacks  Seeds for Eating \n",
            "\n",
            "POLKA Sugar Less Diet Rusk With Suji  Elaichi - Pack Of 1 - 200 g I High Fibre Digestive Biscuits Rusk I Sugar Free Snacks Substitute I Diet Snacks I Diabetic snacks I Good For You food items Toast \n",
            "\n",
            "True Elements Chia Seeds 150g - Non-GMO and Fibre Rich Seeds  Omega-3 rich Seeds for Eating  Healthy Snacks Best for Weight management \n",
            "\n",
            "Sugarlif LOW GI Diet Sugar- Orignal Product of Dr. C K Nandagopalan - Diabetic Friendly Herbal Cane Sugar-Free From Chemicals Artificial Sweetener Substitute Low Glycemic Index 1 Kg - Pack of 3 \n",
            "\n",
            "WickedGud 2X Fiber Spaghetti Pasta  No Maida  Durum Wheat Semolina  Brown Rice  Red Lentils  Healthy Diet Pasta - 400gm \n",
            "\n",
            "Coca-Cola Diet 180 ml Can \n",
            "\n",
            "Ritebite SugaRite Diet Sweetener - 1000g \n",
            "\n",
            "Lo! Low Carb Delights - Ultra Low Carb Keto Atta 500 g Dietitian Recommended Keto Flour  Lab Tested Keto Food Products for Keto Diet \n",
            "\n",
            "Britannia Nutri Choice Seeds Biscuits - 0 Maida 15 Seeds High Fibre 75g \n",
            "\n",
            "Dabur Honitus Hot Sip - Pack of 30 Sachets 4gx30  100 Ayurvedic Kadha  Provides Instant Relief from Cough Cold  Sore Throat  Natural Immunity Booster  Unique Blend of 15 Ayurvedic Herbs \n",
            "\n",
            "Parle Monaco Cheeslings 300g \n",
            "\n",
            "Yu Foodlabs - Whole Wheat Noodles - 100 Atta  Zero Maida - Easy To Digest Healthy Noodles - No Preservatives  100 Natural - Just Boil - Ready In 5 Mins - Serves 6-300 grams Pack Of 2 \n",
            "\n",
            "Sugar Free Natura Diet Sugar 220 g  Indiaâs No.1 Sweetner Sweet like Sugar with Low Calories Scientifically Proven  Tested \n",
            "\n",
            "Pintola All Natural Peanut Butter Crunchy  Unsweetened  30g Protein  Non GMO  Gluten Free  Vegan  Cholesterol Free 350g \n",
            "\n",
            "Daawat Brown Cooks in 15-minute Full Bran Intact Fibre-Rich Basmati Rice Jar 1 Kg \n",
            "\n",
            "Haier 165 cm 65 inches 4K Ultra HD Smart LED Google TV L65FG Black \n",
            "\n",
            "Westinghouse 100 cm 40 inches W2 Series Full HD Certified Android LED TV WH40FX51 Black \n",
            "\n"
          ]
        },
        {
          "output_type": "stream",
          "name": "stderr",
          "text": [
            "INFO:werkzeug:127.0.0.1 - - [09/May/2024 11:11:53] \"\u001b[36mGET /static/script/script.js HTTP/1.1\u001b[0m\" 304 -\n",
            "INFO:werkzeug:127.0.0.1 - - [09/May/2024 11:11:53] \"GET /static/css/User_profile.css HTTP/1.1\" 200 -\n",
            "INFO:werkzeug:127.0.0.1 - - [09/May/2024 11:11:53] \"\u001b[36mGET /static/script/Product_Dataset.csv HTTP/1.1\u001b[0m\" 304 -\n",
            "INFO:werkzeug:127.0.0.1 - - [09/May/2024 11:11:53] \"GET /static/ProductRecommendations.csv HTTP/1.1\" 200 -\n",
            "INFO:werkzeug:127.0.0.1 - - [09/May/2024 11:11:53] \"\u001b[36mGET /static/script/New_db_uid_hist.csv HTTP/1.1\u001b[0m\" 304 -\n",
            "INFO:werkzeug:127.0.0.1 - - [09/May/2024 11:11:54] \"\u001b[36mGET /static/script/Product_Dataset.csv HTTP/1.1\u001b[0m\" 304 -\n",
            "INFO:werkzeug:127.0.0.1 - - [09/May/2024 11:12:56] \"GET /main HTTP/1.1\" 200 -\n",
            "INFO:werkzeug:127.0.0.1 - - [09/May/2024 11:12:56] \"\u001b[36mGET /static/css/Review2.css HTTP/1.1\u001b[0m\" 304 -\n",
            "INFO:werkzeug:127.0.0.1 - - [09/May/2024 11:12:56] \"\u001b[36mGET /static/script/script.js HTTP/1.1\u001b[0m\" 304 -\n",
            "INFO:werkzeug:127.0.0.1 - - [09/May/2024 11:12:57] \"\u001b[36mGET /static/script/Product_Dataset.csv HTTP/1.1\u001b[0m\" 304 -\n",
            "INFO:werkzeug:127.0.0.1 - - [09/May/2024 11:12:57] \"\u001b[36mGET /static/ProductRecommendations.csv HTTP/1.1\u001b[0m\" 304 -\n",
            "INFO:werkzeug:127.0.0.1 - - [09/May/2024 11:12:57] \"\u001b[36mGET /static/script/New_db_uid_hist.csv HTTP/1.1\u001b[0m\" 304 -\n",
            "INFO:werkzeug:127.0.0.1 - - [09/May/2024 11:12:58] \"\u001b[36mGET /static/script/Product_Dataset.csv HTTP/1.1\u001b[0m\" 304 -\n",
            "INFO:werkzeug:127.0.0.1 - - [09/May/2024 11:13:01] \"\u001b[36mGET /static/script/Product_Dataset.csv HTTP/1.1\u001b[0m\" 304 -\n",
            "INFO:werkzeug:127.0.0.1 - - [09/May/2024 11:13:02] \"\u001b[33mGET /search_results?keyword=boat HTTP/1.1\u001b[0m\" 404 -\n",
            "INFO:werkzeug:127.0.0.1 - - [09/May/2024 11:13:02] \"\u001b[33mGET /update_scrape_reviews_csv HTTP/1.1\u001b[0m\" 404 -\n",
            "INFO:werkzeug:127.0.0.1 - - [09/May/2024 11:13:04] \"GET /product_expand.html?productId=boAt%20Aavante%20Bar%201500%202.1%20Channel%20Home%20Theatre%20Soundbar%20with%20120W%20Signature%20Sound%20Wired%20Subwoofer%20Multiple%20Connectivity%20Modes%20Entertainment%20EQ%20Modes%20and%20Sleek%20Finish%20Black HTTP/1.1\" 200 -\n",
            "INFO:werkzeug:127.0.0.1 - - [09/May/2024 11:13:05] \"GET /static/css/Product_exp.css HTTP/1.1\" 200 -\n",
            "INFO:werkzeug:127.0.0.1 - - [09/May/2024 11:13:05] \"\u001b[36mGET /static/script/script.js HTTP/1.1\u001b[0m\" 304 -\n",
            "INFO:werkzeug:127.0.0.1 - - [09/May/2024 11:13:06] \"\u001b[36mGET /static/script/Product_Dataset.csv HTTP/1.1\u001b[0m\" 304 -\n",
            "INFO:werkzeug:127.0.0.1 - - [09/May/2024 11:13:06] \"\u001b[36mGET /static/script/New_db_uid_hist.csv HTTP/1.1\u001b[0m\" 304 -\n",
            "INFO:werkzeug:127.0.0.1 - - [09/May/2024 11:13:06] \"GET /static/script/Amazon_Reviews_5000%20-%20Copy.csv HTTP/1.1\" 200 -\n",
            "INFO:werkzeug:127.0.0.1 - - [09/May/2024 11:13:06] \"\u001b[36mGET /static/ProductRecommendations.csv HTTP/1.1\u001b[0m\" 304 -\n",
            "INFO:werkzeug:127.0.0.1 - - [09/May/2024 11:13:06] \"\u001b[36mGET /static/script/Product_Dataset.csv HTTP/1.1\u001b[0m\" 304 -\n",
            "INFO:werkzeug:127.0.0.1 - - [09/May/2024 11:13:07] \"\u001b[36mGET /static/script/Product_Dataset.csv HTTP/1.1\u001b[0m\" 304 -\n",
            "INFO:werkzeug:127.0.0.1 - - [09/May/2024 11:13:21] \"\u001b[36mGET /static/script/Product_Dataset.csv HTTP/1.1\u001b[0m\" 304 -\n",
            "INFO:werkzeug:127.0.0.1 - - [09/May/2024 11:13:23] \"GET /product_expand.html?productId=Noise%20Newly%20Launched%20Quad%20Call%201.81%20Display%20Bluetooth%20Calling%20Smart%20Watch%20AI%20Voice%20Assistance%20160%20Hrs%20Battery%20Life%20Metallic%20Build%20in-Built%20Games%20100%20Sports%20Modes%20100%20%20Watch%20Faces%20Rose%20Pink HTTP/1.1\" 200 -\n",
            "INFO:werkzeug:127.0.0.1 - - [09/May/2024 11:13:24] \"\u001b[36mGET /static/css/Product_exp.css HTTP/1.1\u001b[0m\" 304 -\n",
            "INFO:werkzeug:127.0.0.1 - - [09/May/2024 11:13:24] \"\u001b[36mGET /static/script/script.js HTTP/1.1\u001b[0m\" 304 -\n",
            "INFO:werkzeug:127.0.0.1 - - [09/May/2024 11:13:25] \"\u001b[36mGET /static/script/New_db_uid_hist.csv HTTP/1.1\u001b[0m\" 304 -\n",
            "INFO:werkzeug:127.0.0.1 - - [09/May/2024 11:13:25] \"\u001b[36mGET /static/ProductRecommendations.csv HTTP/1.1\u001b[0m\" 304 -\n",
            "INFO:werkzeug:127.0.0.1 - - [09/May/2024 11:13:25] \"\u001b[36mGET /static/script/Product_Dataset.csv HTTP/1.1\u001b[0m\" 304 -\n",
            "INFO:werkzeug:127.0.0.1 - - [09/May/2024 11:13:25] \"\u001b[35m\u001b[1mGET /static/script/Amazon_Reviews_5000%20-%20Copy.csv HTTP/1.1\u001b[0m\" 206 -\n",
            "INFO:werkzeug:127.0.0.1 - - [09/May/2024 11:13:25] \"\u001b[36mGET /static/script/Product_Dataset.csv HTTP/1.1\u001b[0m\" 304 -\n",
            "INFO:werkzeug:127.0.0.1 - - [09/May/2024 11:13:25] \"\u001b[35m\u001b[1mGET /static/script/Amazon_Reviews_5000%20-%20Copy.csv HTTP/1.1\u001b[0m\" 206 -\n",
            "INFO:werkzeug:127.0.0.1 - - [09/May/2024 11:13:26] \"\u001b[36mGET /static/script/Product_Dataset.csv HTTP/1.1\u001b[0m\" 304 -\n",
            "INFO:werkzeug:127.0.0.1 - - [09/May/2024 11:13:34] \"POST /save_reviews HTTP/1.1\" 200 -\n"
          ]
        },
        {
          "output_type": "stream",
          "name": "stdout",
          "text": [
            "Product Name: Noise Newly Launched Quad Call 1.81 Display Bluetooth Calling Smart Watch AI Voice Assistance 160 Hrs Battery Life Metallic Build in-Built Games 100 Sports Modes 100 Watch Faces Rose Pink\n",
            "True Reviews\n",
            "\n",
            "0    Purchased the product through Amazon.Received ...\n",
            "1    Features are limited which is not a problem bu...\n",
            "2    The watch is good but lack of features like vi...\n",
            "3    It was good I was buying this for first time i...\n",
            "4    It's not having more futures as per mentioned ...\n",
            "5    Stopped working after about one month. No disp...\n",
            "Name: Review_Text, dtype: object\n",
            "Product Rating Before Model Implementation: 3.625\n",
            "Number of Actual Reviews: 6\n",
            "Product Rating After Model Implementation: 3.5\n",
            "Number of Actual Reviews: 6\n",
            "                                        Product Name  \\\n",
            "0  Noise Newly Launched Quad Call 1.81 Display Bl...   \n",
            "1  Noise Newly Launched Quad Call 1.81 Display Bl...   \n",
            "2  Noise Newly Launched Quad Call 1.81 Display Bl...   \n",
            "3  Noise Newly Launched Quad Call 1.81 Display Bl...   \n",
            "4  Noise Newly Launched Quad Call 1.81 Display Bl...   \n",
            "\n",
            "                                       Reviewer Name  Rating  \\\n",
            "0                                    Amazon Customer   3.625   \n",
            "1                                             Gaurav   3.625   \n",
            "2                                             Pankaj   3.625   \n",
            "3  I loved this one I purchased for my bday and l...   3.625   \n",
            "4                                        Placeholder   3.625   \n",
            "\n",
            "          Rating_full                         Rating Date  \\\n",
            "0  4.0 out of 5 stars   Reviewed in India on 9 March 2024   \n",
            "1  3.0 out of 5 stars   Reviewed in India on 7 April 2024   \n",
            "2  3.0 out of 5 stars   Reviewed in India on 8 April 2024   \n",
            "3  4.0 out of 5 stars  Reviewed in India on 29 March 2024   \n",
            "4  3.0 out of 5 stars   Reviewed in India on 8 April 2024   \n",
            "\n",
            "                                         Review_Text  Actual_rating  \n",
            "0  Purchased the product through Amazon.Received ...            3.5  \n",
            "1  Features are limited which is not a problem bu...            3.5  \n",
            "2  The watch is good but lack of features like vi...            3.5  \n",
            "3  It was good I was buying this for first time i...            3.5  \n",
            "4  It's not having more futures as per mentioned ...            3.5  \n"
          ]
        },
        {
          "output_type": "stream",
          "name": "stderr",
          "text": [
            "INFO:werkzeug:127.0.0.1 - - [09/May/2024 11:13:50] \"GET /static/TrueReviews.csv HTTP/1.1\" 200 -\n",
            "INFO:werkzeug:127.0.0.1 - - [09/May/2024 11:13:51] \"POST /save_reviews HTTP/1.1\" 200 -\n"
          ]
        },
        {
          "output_type": "stream",
          "name": "stdout",
          "text": [
            "Product Name: Noise Newly Launched Quad Call 1.81 Display Bluetooth Calling Smart Watch AI Voice Assistance 160 Hrs Battery Life Metallic Build in-Built Games 100 Sports Modes 100 Watch Faces Rose Pink\n",
            "True Reviews\n",
            "\n",
            "0    Purchased the product through Amazon.Received ...\n",
            "1    Features are limited which is not a problem bu...\n",
            "2    It was good I was buying this for first time i...\n",
            "3    Stopped working after about one month. No disp...\n",
            "Name: Review_Text, dtype: object\n",
            "Product Rating Before Model Implementation: 3.625\n",
            "Number of Actual Reviews: 4\n",
            "Product Rating After Model Implementation: 3.625\n",
            "Number of Actual Reviews: 4\n",
            "                                        Product Name  \\\n",
            "0  Noise Newly Launched Quad Call 1.81 Display Bl...   \n",
            "1  Noise Newly Launched Quad Call 1.81 Display Bl...   \n",
            "2  Noise Newly Launched Quad Call 1.81 Display Bl...   \n",
            "3  Noise Newly Launched Quad Call 1.81 Display Bl...   \n",
            "\n",
            "                                       Reviewer Name  Rating  \\\n",
            "0                                    Amazon Customer   3.625   \n",
            "1                                             Gaurav   3.625   \n",
            "2  I loved this one I purchased for my bday and l...   3.625   \n",
            "3                                    vijay pal tyagi   3.625   \n",
            "\n",
            "          Rating_full                           Rating Date  \\\n",
            "0  4.0 out of 5 stars     Reviewed in India on 9 March 2024   \n",
            "1  3.0 out of 5 stars     Reviewed in India on 7 April 2024   \n",
            "2  4.0 out of 5 stars    Reviewed in India on 29 March 2024   \n",
            "3  4.0 out of 5 stars  Reviewed in India on 30 January 2024   \n",
            "\n",
            "                                         Review_Text  Actual_rating  \n",
            "0  Purchased the product through Amazon.Received ...          3.625  \n",
            "1  Features are limited which is not a problem bu...          3.625  \n",
            "2  It was good I was buying this for first time i...          3.625  \n",
            "3  Stopped working after about one month. No disp...          3.625  \n"
          ]
        },
        {
          "output_type": "stream",
          "name": "stderr",
          "text": [
            "INFO:werkzeug:127.0.0.1 - - [09/May/2024 11:14:01] \"GET /main HTTP/1.1\" 200 -\n",
            "INFO:werkzeug:127.0.0.1 - - [09/May/2024 11:14:02] \"\u001b[36mGET /static/script/script.js HTTP/1.1\u001b[0m\" 304 -\n",
            "INFO:werkzeug:127.0.0.1 - - [09/May/2024 11:14:02] \"\u001b[36mGET /static/css/Review2.css HTTP/1.1\u001b[0m\" 304 -\n",
            "INFO:werkzeug:127.0.0.1 - - [09/May/2024 11:14:03] \"\u001b[36mGET /static/script/Product_Dataset.csv HTTP/1.1\u001b[0m\" 304 -\n",
            "INFO:werkzeug:127.0.0.1 - - [09/May/2024 11:14:03] \"\u001b[36mGET /static/script/New_db_uid_hist.csv HTTP/1.1\u001b[0m\" 304 -\n",
            "INFO:werkzeug:127.0.0.1 - - [09/May/2024 11:14:03] \"\u001b[36mGET /static/ProductRecommendations.csv HTTP/1.1\u001b[0m\" 304 -\n",
            "INFO:werkzeug:127.0.0.1 - - [09/May/2024 11:14:03] \"\u001b[36mGET /static/script/Product_Dataset.csv HTTP/1.1\u001b[0m\" 304 -\n",
            "INFO:werkzeug:127.0.0.1 - - [09/May/2024 11:14:04] \"GET /categories HTTP/1.1\" 200 -\n",
            "INFO:werkzeug:127.0.0.1 - - [09/May/2024 11:14:05] \"\u001b[36mGET /static/css/Review2.css HTTP/1.1\u001b[0m\" 304 -\n",
            "INFO:werkzeug:127.0.0.1 - - [09/May/2024 11:14:09] \"\u001b[36mGET /static/script/Product_Dataset.csv HTTP/1.1\u001b[0m\" 304 -\n"
          ]
        }
      ],
      "source": [
        "import csv\n",
        "import os\n",
        "import pandas as pd\n",
        "\n",
        "\n",
        "# from scrape_reviews import update_scrape_reviews_csv\n",
        "check=True\n",
        "app=Flask(__name__,template_folder='/content/drive/My Drive/Colab Notebooks/Capstone_Project')\n",
        "\n",
        "# ngrok.set_auth_token(\"2fjiIrj5dtUrFytzuR4hhHh4vC4_3ZzB2crLSyygqNpqDZEXS\")\n",
        "\n",
        "# Backup Auth\n",
        "ngrok.set_auth_token(\"2gD6PwB0MHbtuBt2I9Wcjnlk6mB_7gkFXgodE1KxnxnqAMMaH\")\n",
        "\n",
        "public_url=ngrok.connect(port_no).public_url\n",
        "\n",
        "def load_user_data_from_csv():\n",
        "    users_data = {}\n",
        "    with open('static/script/New_db_uid_hist.csv', newline='', encoding='utf-8') as csvfile:\n",
        "        reader = csv.DictReader(csvfile)\n",
        "        for row in reader:\n",
        "            user_id = row['customer_id']\n",
        "            user_name = row['Customer_Name']\n",
        "            user_name = user_name.capitalize()\n",
        "            users_data[user_id] = {\"user_name\": user_name, \"password\": \"p123\"}  # Assuming a default password\n",
        "    return users_data\n",
        "\n",
        "users = load_user_data_from_csv()\n",
        "\n",
        "@app.route(\"/\")\n",
        "def login():\n",
        "    return render_template('templates/Login.html')\n",
        "\n",
        "@app.route(\"/authenticate\", methods=['POST'])\n",
        "def authenticate():\n",
        "    global loginUserID\n",
        "    user_id = request.form.get('user_id')\n",
        "    loginUserID = user_id\n",
        "    password = request.form.get('password')\n",
        "\n",
        "    if user_id in users and users[user_id][\"password\"] == password:\n",
        "        return redirect(url_for('home'))\n",
        "    else:\n",
        "        return render_template('templates/Login.html', error=\"Invalid user ID or password.\")\n",
        "\n",
        "@app.route('/logout')\n",
        "def logout():\n",
        "    return redirect(url_for('login'))\n",
        "\n",
        "\n",
        "@app.route(\"/main\")\n",
        "def home():\n",
        "    return render_template('templates/Check2.html')\n",
        "\n",
        "# Function to parse CSV and extract unique categories\n",
        "def get_unique_categories():\n",
        "    categories = set()\n",
        "    with open('Product_Dataset.csv', newline='', encoding='utf-8') as csvfile:\n",
        "        reader = csv.DictReader(csvfile)\n",
        "        for row in reader:\n",
        "            categories.add(row['categories'])\n",
        "    unique_categories = sorted(categories)\n",
        "    return sorted(categories)\n",
        "\n",
        "@app.route(\"/categories\")\n",
        "def categories():\n",
        "    unique_categories = get_unique_categories()\n",
        "    # print(unique_categories)\n",
        "    return render_template(\"templates/Categories.html\", categories=unique_categories)\n",
        "\n",
        "@app.route(\"/about\")\n",
        "def about():\n",
        "    # Handle About Us section\n",
        "    return render_template(\"templates/About.html\")\n",
        "\n",
        "@app.route(\"/contact\")\n",
        "def contact():\n",
        "    # Handle About Us section\n",
        "    return render_template(\"templates/Contact.html\")\n",
        "\n",
        "\n",
        "@app.route(\"/faq\")\n",
        "def faq():\n",
        "    # Handle FAQ section\n",
        "    return render_template(\"templates/Faq.html\")\n",
        "\n",
        "\n",
        "@app.route('/save_reviews', methods=['POST'])\n",
        "def save_reviews():\n",
        "    reviews_data = request.json\n",
        "    reviews = reviews_data.get('reviews')\n",
        "    df_single_reviews = pd.DataFrame(reviews)\n",
        "\n",
        "    # Define the file path\n",
        "\n",
        "    file_path = '/content/drive/My Drive/Colab Notebooks/Capstone_Project/static/each_product_ALL_reviews.csv'\n",
        "\n",
        "    # Save DataFrame to CSV\n",
        "    df_single_reviews.to_csv(file_path, index=False)\n",
        "\n",
        "    predict_function()\n",
        "\n",
        "    return jsonify({'message': 'Reviews received and saved successfully'}), 200\n",
        "\n",
        "\n",
        "\n",
        "@app.route(\"/user_profile\")\n",
        "def user_profile():\n",
        "    # Dummy user data\n",
        "    doit1(int(loginUserID))\n",
        "    # print(loginUserID)\n",
        "    # print(type(loginUserID))\n",
        "    doit2(int(loginUserID))\n",
        "    if loginUserID in users:\n",
        "        user_data = {\n",
        "            \"user_id\": loginUserID,\n",
        "            \"user_name\": users[loginUserID][\"user_name\"],\n",
        "            \"phone_number\": \"123-456-7890\",\n",
        "            \"email\": \"johndoe@example.com\",\n",
        "            \"address\": \"East Malad Mumbai, Maharashtra, 632014\",\n",
        "            \"purchase_history\": [\"Product 1\", \"Product 2\"]  # Dummy purchase history\n",
        "        }\n",
        "        return render_template(\"templates/User_profile.html\", user_data=user_data, loginUserID=loginUserID)\n",
        "    else:\n",
        "        return render_template(\"templates/User_profile.html\", user_data=None, loginUserID=None)\n",
        "\n",
        "# prod rec here\n",
        "@app.route(\"/product_expand.html\")\n",
        "def product_expand():\n",
        "    productId = request.args.get(\"productId\")\n",
        "    # Fetch product details based on productId\n",
        "    # Pass product details to the template\n",
        "    return render_template(\"templates/Product_expand.html\", productId=productId)\n",
        "\n",
        "\n",
        "print(\"Click:\",public_url)\n",
        "app.run(port=port_no)"
      ]
    }
  ],
  "metadata": {
    "colab": {
      "provenance": [],
      "include_colab_link": true
    },
    "kernelspec": {
      "display_name": "Python 3",
      "name": "python3"
    },
    "language_info": {
      "name": "python"
    }
  },
  "nbformat": 4,
  "nbformat_minor": 0
}